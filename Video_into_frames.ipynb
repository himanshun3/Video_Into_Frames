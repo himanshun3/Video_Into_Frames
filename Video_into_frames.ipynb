{
 "cells": [
  {
   "cell_type": "code",
   "execution_count": 5,
   "metadata": {},
   "outputs": [],
   "source": [
    "\n",
    "import cv2 \n",
    "\n",
    "def FrameCapture(path): \n",
    "\n",
    "    vidObj = cv2.VideoCapture(path) \n",
    "\n",
    "    count = 0\n",
    "\n",
    "    success = 1\n",
    "\n",
    "    while success: \n",
    "\n",
    "        success, image = vidObj.read() \n",
    "\n",
    "\n",
    "        cv2.imwrite(\"frame%d.jpg\" % count, image) \n",
    "\n",
    "        count += 1\n",
    "\n",
    "\n",
    "if __name__ == '__main__': \n",
    "\n",
    "\n",
    "    FrameCapture(\"sample_01.mp4\") \n"
   ]
  },
  {
   "cell_type": "code",
   "execution_count": null,
   "metadata": {},
   "outputs": [],
   "source": []
  }
 ],
 "metadata": {
  "kernelspec": {
   "display_name": "Python 3",
   "language": "python",
   "name": "python3"
  },
  "language_info": {
   "codemirror_mode": {
    "name": "ipython",
    "version": 3
   },
   "file_extension": ".py",
   "mimetype": "text/x-python",
   "name": "python",
   "nbconvert_exporter": "python",
   "pygments_lexer": "ipython3",
   "version": "3.7.1"
  }
 },
 "nbformat": 4,
 "nbformat_minor": 2
}
